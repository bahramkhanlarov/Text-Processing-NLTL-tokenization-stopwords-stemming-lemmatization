{
  "nbformat": 4,
  "nbformat_minor": 0,
  "metadata": {
    "colab": {
      "provenance": [],
      "mount_file_id": "17FZx2V5lQ1l0NXSfK1xs7PWSSY0-OfDY",
      "authorship_tag": "ABX9TyPl/uRGRGNybeVzg563/yQ2",
      "include_colab_link": true
    },
    "kernelspec": {
      "name": "python3",
      "display_name": "Python 3"
    },
    "language_info": {
      "name": "python"
    }
  },
  "cells": [
    {
      "cell_type": "markdown",
      "metadata": {
        "id": "view-in-github",
        "colab_type": "text"
      },
      "source": [
        "<a href=\"https://colab.research.google.com/github/bahramkhanlarov/Text-Processing-NLTL-tokenization-stopwords-stemming-lemmatization/blob/main/Text_Processing_NLTL_tokenization%2Cstopwords%2Cstemming%2Clemmatization.ipynb\" target=\"_parent\"><img src=\"https://colab.research.google.com/assets/colab-badge.svg\" alt=\"Open In Colab\"/></a>"
      ]
    },
    {
      "cell_type": "code",
      "source": [
        "\n",
        "import nltk\n",
        "from nltk.corpus import stopwords\n",
        "from nltk.tokenize import word_tokenize\n",
        "from nltk.stem import PorterStemmer\n",
        "from nltk.stem import WordNetLemmatizer\n",
        "import re\n",
        "from sklearn.feature_extraction.text import CountVectorizer\n",
        "\n",
        "# Install necessary NLTK data\n",
        "!pip install nltk\n",
        "nltk.download('punkt')\n",
        "nltk.download('wordnet')\n",
        "nltk.download('stopwords')\n",
        "nltk.download('omw-1.4')"
      ],
      "metadata": {
        "colab": {
          "base_uri": "https://localhost:8080/"
        },
        "id": "KqbSnPmudrqp",
        "outputId": "e5dc0450-8386-4274-b381-da4a374294ef"
      },
      "execution_count": 37,
      "outputs": [
        {
          "output_type": "stream",
          "name": "stdout",
          "text": [
            "Requirement already satisfied: nltk in /usr/local/lib/python3.10/dist-packages (3.9.1)\n",
            "Requirement already satisfied: click in /usr/local/lib/python3.10/dist-packages (from nltk) (8.1.7)\n",
            "Requirement already satisfied: joblib in /usr/local/lib/python3.10/dist-packages (from nltk) (1.4.2)\n",
            "Requirement already satisfied: regex>=2021.8.3 in /usr/local/lib/python3.10/dist-packages (from nltk) (2024.9.11)\n",
            "Requirement already satisfied: tqdm in /usr/local/lib/python3.10/dist-packages (from nltk) (4.66.6)\n"
          ]
        },
        {
          "output_type": "stream",
          "name": "stderr",
          "text": [
            "[nltk_data] Downloading package punkt to /root/nltk_data...\n",
            "[nltk_data]   Package punkt is already up-to-date!\n",
            "[nltk_data] Downloading package wordnet to /root/nltk_data...\n",
            "[nltk_data]   Package wordnet is already up-to-date!\n",
            "[nltk_data] Downloading package stopwords to /root/nltk_data...\n",
            "[nltk_data]   Package stopwords is already up-to-date!\n",
            "[nltk_data] Downloading package omw-1.4 to /root/nltk_data...\n",
            "[nltk_data]   Package omw-1.4 is already up-to-date!\n"
          ]
        },
        {
          "output_type": "execute_result",
          "data": {
            "text/plain": [
              "True"
            ]
          },
          "metadata": {},
          "execution_count": 37
        }
      ]
    },
    {
      "cell_type": "code",
      "source": [
        "paragraph=\"\"\" World War I[b] or the First World War (28 July 1914 – 11 November 1918), also known as the Great War, was a global conflict between two coalitions: the Allies (or Entente) and the Central Powers. Fighting took place mainly in Europe and the Middle East, as well as in parts of Africa and the Asia-Pacific, and in Europe was characterised by trench warfare; the widespread use of artillery, machine guns, and chemical weapons (gas); and the introductions of tanks and aircraft. World War I was one of the deadliest conflicts in history, resulting in an estimated 10 million military dead and more than 20 million wounded, plus some 10 million civilian dead from causes including genocide. The movement of large numbers of people was a major factor in the deadly Spanish flu pandemic.\n",
        "\n",
        "The causes of World War I included the rise of Germany and decline of the Ottoman Empire, which disturbed the long-standing balance of power in Europe, as well as economic competition between nations triggered by industrialisation and imperialism. Growing tensions between the great powers and in the Balkans reached a breaking point on 28 June 1914, when a Bosnian Serb named Gavrilo Princip assassinated Archduke Franz Ferdinand, heir to the Austro-Hungarian throne. Austria-Hungary held Serbia responsible, and declared war on 28 July. After Russia mobilised in Serbia's defence, Germany declared war on Russia and France, who had an alliance. The United Kingdom entered after Germany invaded Belgium, whose neutrality it guaranteed, and the Ottomans joined the Central Powers in November. Germany's strategy in 1914 was to quickly defeat France, then to transfer its forces to the east, but its advance was halted in September, and by the end of the year the Western Front consisted of a continuous line of trenches stretching from the English Channel to Switzerland. The Eastern Front was more dynamic, but neither side gained a decisive advantage, despite costly offensives. Italy, Bulgaria, Romania, Greece and others joined in from 1915 onward.\n",
        "\n",
        "\"\"\""
      ],
      "metadata": {
        "id": "iJ-z3wFCdvoM"
      },
      "execution_count": 38,
      "outputs": []
    },
    {
      "cell_type": "code",
      "source": [
        "paragraph"
      ],
      "metadata": {
        "colab": {
          "base_uri": "https://localhost:8080/",
          "height": 143
        },
        "id": "69llpm9ed8bm",
        "outputId": "b5b96185-f85f-4b15-ef6a-7a54846173db"
      },
      "execution_count": 39,
      "outputs": [
        {
          "output_type": "execute_result",
          "data": {
            "text/plain": [
              "\" World War I[b] or the First World War (28 July 1914 – 11 November 1918), also known as the Great War, was a global conflict between two coalitions: the Allies (or Entente) and the Central Powers. Fighting took place mainly in Europe and the Middle East, as well as in parts of Africa and the Asia-Pacific, and in Europe was characterised by trench warfare; the widespread use of artillery, machine guns, and chemical weapons (gas); and the introductions of tanks and aircraft. World War I was one of the deadliest conflicts in history, resulting in an estimated 10 million military dead and more than 20 million wounded, plus some 10 million civilian dead from causes including genocide. The movement of large numbers of people was a major factor in the deadly Spanish flu pandemic.\\n\\nThe causes of World War I included the rise of Germany and decline of the Ottoman Empire, which disturbed the long-standing balance of power in Europe, as well as economic competition between nations triggered by industrialisation and imperialism. Growing tensions between the great powers and in the Balkans reached a breaking point on 28 June 1914, when a Bosnian Serb named Gavrilo Princip assassinated Archduke Franz Ferdinand, heir to the Austro-Hungarian throne. Austria-Hungary held Serbia responsible, and declared war on 28 July. After Russia mobilised in Serbia's defence, Germany declared war on Russia and France, who had an alliance. The United Kingdom entered after Germany invaded Belgium, whose neutrality it guaranteed, and the Ottomans joined the Central Powers in November. Germany's strategy in 1914 was to quickly defeat France, then to transfer its forces to the east, but its advance was halted in September, and by the end of the year the Western Front consisted of a continuous line of trenches stretching from the English Channel to Switzerland. The Eastern Front was more dynamic, but neither side gained a decisive advantage, despite costly offensives. Italy, Bulgaria, Romania, Greece and others joined in from 1915 onward.\\n\\n\""
            ],
            "application/vnd.google.colaboratory.intrinsic+json": {
              "type": "string"
            }
          },
          "metadata": {},
          "execution_count": 39
        }
      ]
    },
    {
      "cell_type": "code",
      "source": [
        "\n",
        "# Tokenize the paragraph into sentences\n",
        "sentences = nltk.sent_tokenize(paragraph)\n",
        "print(sentences)"
      ],
      "metadata": {
        "colab": {
          "base_uri": "https://localhost:8080/"
        },
        "id": "oMG5C6tgkTo1",
        "outputId": "e03e01fb-337e-4285-d120-9d47df136f85"
      },
      "execution_count": 41,
      "outputs": [
        {
          "output_type": "stream",
          "name": "stdout",
          "text": [
            "[' World War I[b] or the First World War (28 July 1914 – 11 November 1918), also known as the Great War, was a global conflict between two coalitions: the Allies (or Entente) and the Central Powers.', 'Fighting took place mainly in Europe and the Middle East, as well as in parts of Africa and the Asia-Pacific, and in Europe was characterised by trench warfare; the widespread use of artillery, machine guns, and chemical weapons (gas); and the introductions of tanks and aircraft.', 'World War I was one of the deadliest conflicts in history, resulting in an estimated 10 million military dead and more than 20 million wounded, plus some 10 million civilian dead from causes including genocide.', 'The movement of large numbers of people was a major factor in the deadly Spanish flu pandemic.', 'The causes of World War I included the rise of Germany and decline of the Ottoman Empire, which disturbed the long-standing balance of power in Europe, as well as economic competition between nations triggered by industrialisation and imperialism.', 'Growing tensions between the great powers and in the Balkans reached a breaking point on 28 June 1914, when a Bosnian Serb named Gavrilo Princip assassinated Archduke Franz Ferdinand, heir to the Austro-Hungarian throne.', 'Austria-Hungary held Serbia responsible, and declared war on 28 July.', \"After Russia mobilised in Serbia's defence, Germany declared war on Russia and France, who had an alliance.\", 'The United Kingdom entered after Germany invaded Belgium, whose neutrality it guaranteed, and the Ottomans joined the Central Powers in November.', \"Germany's strategy in 1914 was to quickly defeat France, then to transfer its forces to the east, but its advance was halted in September, and by the end of the year the Western Front consisted of a continuous line of trenches stretching from the English Channel to Switzerland.\", 'The Eastern Front was more dynamic, but neither side gained a decisive advantage, despite costly offensives.', 'Italy, Bulgaria, Romania, Greece and others joined in from 1915 onward.']\n"
          ]
        }
      ]
    },
    {
      "cell_type": "code",
      "source": [
        "\n",
        "# Initialize stemmer and lemmatizer\n",
        "stemmer = PorterStemmer()\n",
        "lemmatizer = WordNetLemmatizer()\n",
        "\n",
        "# Example stemming and lemmatization\n",
        "print(stemmer.stem('history'))\n",
        "print(lemmatizer.lemmatize('goes'))"
      ],
      "metadata": {
        "colab": {
          "base_uri": "https://localhost:8080/"
        },
        "id": "2g-5T4McmUAK",
        "outputId": "e69b1fac-4023-4ae3-8bb1-0ff7489a2b7a"
      },
      "execution_count": 42,
      "outputs": [
        {
          "output_type": "stream",
          "name": "stdout",
          "text": [
            "histori\n",
            "go\n"
          ]
        }
      ]
    },
    {
      "cell_type": "code",
      "source": [
        "len(sentences)"
      ],
      "metadata": {
        "colab": {
          "base_uri": "https://localhost:8080/"
        },
        "id": "l2DOJjy2pDTX",
        "outputId": "ca80e8bf-3150-4a1c-c90b-1df9d0f246ab"
      },
      "execution_count": 43,
      "outputs": [
        {
          "output_type": "execute_result",
          "data": {
            "text/plain": [
              "12"
            ]
          },
          "metadata": {},
          "execution_count": 43
        }
      ]
    },
    {
      "cell_type": "code",
      "source": [
        "# Preprocess the sentences\n",
        "corpus = []\n",
        "for sentence in sentences:\n",
        "    # Remove non-alphabetic characters and convert to lowercase\n",
        "    review = re.sub('[^a-zA-Z]', ' ', sentence).lower()\n",
        "    corpus.append(review)\n",
        "\n",
        "# Print the processed corpus\n",
        "print(corpus)"
      ],
      "metadata": {
        "colab": {
          "base_uri": "https://localhost:8080/"
        },
        "id": "u64GsaOVpaHg",
        "outputId": "3d31ac90-bb46-4a3c-d525-7c72195cf5c4"
      },
      "execution_count": 44,
      "outputs": [
        {
          "output_type": "stream",
          "name": "stdout",
          "text": [
            "[' world war i b  or the first world war     july           november        also known as the great war  was a global conflict between two coalitions  the allies  or entente  and the central powers ', 'fighting took place mainly in europe and the middle east  as well as in parts of africa and the asia pacific  and in europe was characterised by trench warfare  the widespread use of artillery  machine guns  and chemical weapons  gas   and the introductions of tanks and aircraft ', 'world war i was one of the deadliest conflicts in history  resulting in an estimated    million military dead and more than    million wounded  plus some    million civilian dead from causes including genocide ', 'the movement of large numbers of people was a major factor in the deadly spanish flu pandemic ', 'the causes of world war i included the rise of germany and decline of the ottoman empire  which disturbed the long standing balance of power in europe  as well as economic competition between nations triggered by industrialisation and imperialism ', 'growing tensions between the great powers and in the balkans reached a breaking point on    june       when a bosnian serb named gavrilo princip assassinated archduke franz ferdinand  heir to the austro hungarian throne ', 'austria hungary held serbia responsible  and declared war on    july ', 'after russia mobilised in serbia s defence  germany declared war on russia and france  who had an alliance ', 'the united kingdom entered after germany invaded belgium  whose neutrality it guaranteed  and the ottomans joined the central powers in november ', 'germany s strategy in      was to quickly defeat france  then to transfer its forces to the east  but its advance was halted in september  and by the end of the year the western front consisted of a continuous line of trenches stretching from the english channel to switzerland ', 'the eastern front was more dynamic  but neither side gained a decisive advantage  despite costly offensives ', 'italy  bulgaria  romania  greece and others joined in from      onward ']\n"
          ]
        }
      ]
    },
    {
      "cell_type": "code",
      "source": [
        "stopwords.words('english')"
      ],
      "metadata": {
        "colab": {
          "base_uri": "https://localhost:8080/"
        },
        "id": "HJXjb-8lzbEL",
        "outputId": "4f9c98a2-b601-4aa3-fda0-bd5a601fdfc3"
      },
      "execution_count": 45,
      "outputs": [
        {
          "output_type": "execute_result",
          "data": {
            "text/plain": [
              "['i',\n",
              " 'me',\n",
              " 'my',\n",
              " 'myself',\n",
              " 'we',\n",
              " 'our',\n",
              " 'ours',\n",
              " 'ourselves',\n",
              " 'you',\n",
              " \"you're\",\n",
              " \"you've\",\n",
              " \"you'll\",\n",
              " \"you'd\",\n",
              " 'your',\n",
              " 'yours',\n",
              " 'yourself',\n",
              " 'yourselves',\n",
              " 'he',\n",
              " 'him',\n",
              " 'his',\n",
              " 'himself',\n",
              " 'she',\n",
              " \"she's\",\n",
              " 'her',\n",
              " 'hers',\n",
              " 'herself',\n",
              " 'it',\n",
              " \"it's\",\n",
              " 'its',\n",
              " 'itself',\n",
              " 'they',\n",
              " 'them',\n",
              " 'their',\n",
              " 'theirs',\n",
              " 'themselves',\n",
              " 'what',\n",
              " 'which',\n",
              " 'who',\n",
              " 'whom',\n",
              " 'this',\n",
              " 'that',\n",
              " \"that'll\",\n",
              " 'these',\n",
              " 'those',\n",
              " 'am',\n",
              " 'is',\n",
              " 'are',\n",
              " 'was',\n",
              " 'were',\n",
              " 'be',\n",
              " 'been',\n",
              " 'being',\n",
              " 'have',\n",
              " 'has',\n",
              " 'had',\n",
              " 'having',\n",
              " 'do',\n",
              " 'does',\n",
              " 'did',\n",
              " 'doing',\n",
              " 'a',\n",
              " 'an',\n",
              " 'the',\n",
              " 'and',\n",
              " 'but',\n",
              " 'if',\n",
              " 'or',\n",
              " 'because',\n",
              " 'as',\n",
              " 'until',\n",
              " 'while',\n",
              " 'of',\n",
              " 'at',\n",
              " 'by',\n",
              " 'for',\n",
              " 'with',\n",
              " 'about',\n",
              " 'against',\n",
              " 'between',\n",
              " 'into',\n",
              " 'through',\n",
              " 'during',\n",
              " 'before',\n",
              " 'after',\n",
              " 'above',\n",
              " 'below',\n",
              " 'to',\n",
              " 'from',\n",
              " 'up',\n",
              " 'down',\n",
              " 'in',\n",
              " 'out',\n",
              " 'on',\n",
              " 'off',\n",
              " 'over',\n",
              " 'under',\n",
              " 'again',\n",
              " 'further',\n",
              " 'then',\n",
              " 'once',\n",
              " 'here',\n",
              " 'there',\n",
              " 'when',\n",
              " 'where',\n",
              " 'why',\n",
              " 'how',\n",
              " 'all',\n",
              " 'any',\n",
              " 'both',\n",
              " 'each',\n",
              " 'few',\n",
              " 'more',\n",
              " 'most',\n",
              " 'other',\n",
              " 'some',\n",
              " 'such',\n",
              " 'no',\n",
              " 'nor',\n",
              " 'not',\n",
              " 'only',\n",
              " 'own',\n",
              " 'same',\n",
              " 'so',\n",
              " 'than',\n",
              " 'too',\n",
              " 'very',\n",
              " 's',\n",
              " 't',\n",
              " 'can',\n",
              " 'will',\n",
              " 'just',\n",
              " 'don',\n",
              " \"don't\",\n",
              " 'should',\n",
              " \"should've\",\n",
              " 'now',\n",
              " 'd',\n",
              " 'll',\n",
              " 'm',\n",
              " 'o',\n",
              " 're',\n",
              " 've',\n",
              " 'y',\n",
              " 'ain',\n",
              " 'aren',\n",
              " \"aren't\",\n",
              " 'couldn',\n",
              " \"couldn't\",\n",
              " 'didn',\n",
              " \"didn't\",\n",
              " 'doesn',\n",
              " \"doesn't\",\n",
              " 'hadn',\n",
              " \"hadn't\",\n",
              " 'hasn',\n",
              " \"hasn't\",\n",
              " 'haven',\n",
              " \"haven't\",\n",
              " 'isn',\n",
              " \"isn't\",\n",
              " 'ma',\n",
              " 'mightn',\n",
              " \"mightn't\",\n",
              " 'mustn',\n",
              " \"mustn't\",\n",
              " 'needn',\n",
              " \"needn't\",\n",
              " 'shan',\n",
              " \"shan't\",\n",
              " 'shouldn',\n",
              " \"shouldn't\",\n",
              " 'wasn',\n",
              " \"wasn't\",\n",
              " 'weren',\n",
              " \"weren't\",\n",
              " 'won',\n",
              " \"won't\",\n",
              " 'wouldn',\n",
              " \"wouldn't\"]"
            ]
          },
          "metadata": {},
          "execution_count": 45
        }
      ]
    },
    {
      "cell_type": "code",
      "source": [
        "## stemming\n",
        "# Download the 'stopwords' dataset\n",
        "nltk.download('stopwords')\n",
        "for i in corpus:\n",
        "  words=nltk.word_tokenize(i)\n",
        "  for word in words:\n",
        "     if word not in set(stopwords.words('english')):\n",
        "      print(stemmer.stem(word))"
      ],
      "metadata": {
        "colab": {
          "base_uri": "https://localhost:8080/"
        },
        "id": "MdxM89nKqzrW",
        "outputId": "d8d3048b-e4da-4928-c5ff-846183d783b1"
      },
      "execution_count": 46,
      "outputs": [
        {
          "output_type": "stream",
          "name": "stderr",
          "text": [
            "[nltk_data] Downloading package stopwords to /root/nltk_data...\n",
            "[nltk_data]   Package stopwords is already up-to-date!\n"
          ]
        },
        {
          "output_type": "stream",
          "name": "stdout",
          "text": [
            "world\n",
            "war\n",
            "b\n",
            "first\n",
            "world\n",
            "war\n",
            "juli\n",
            "novemb\n",
            "also\n",
            "known\n",
            "great\n",
            "war\n",
            "global\n",
            "conflict\n",
            "two\n",
            "coalit\n",
            "alli\n",
            "entent\n",
            "central\n",
            "power\n",
            "fight\n",
            "took\n",
            "place\n",
            "mainli\n",
            "europ\n",
            "middl\n",
            "east\n",
            "well\n",
            "part\n",
            "africa\n",
            "asia\n",
            "pacif\n",
            "europ\n",
            "characteris\n",
            "trench\n",
            "warfar\n",
            "widespread\n",
            "use\n",
            "artilleri\n",
            "machin\n",
            "gun\n",
            "chemic\n",
            "weapon\n",
            "ga\n",
            "introduct\n",
            "tank\n",
            "aircraft\n",
            "world\n",
            "war\n",
            "one\n",
            "deadliest\n",
            "conflict\n",
            "histori\n",
            "result\n",
            "estim\n",
            "million\n",
            "militari\n",
            "dead\n",
            "million\n",
            "wound\n",
            "plu\n",
            "million\n",
            "civilian\n",
            "dead\n",
            "caus\n",
            "includ\n",
            "genocid\n",
            "movement\n",
            "larg\n",
            "number\n",
            "peopl\n",
            "major\n",
            "factor\n",
            "deadli\n",
            "spanish\n",
            "flu\n",
            "pandem\n",
            "caus\n",
            "world\n",
            "war\n",
            "includ\n",
            "rise\n",
            "germani\n",
            "declin\n",
            "ottoman\n",
            "empir\n",
            "disturb\n",
            "long\n",
            "stand\n",
            "balanc\n",
            "power\n",
            "europ\n",
            "well\n",
            "econom\n",
            "competit\n",
            "nation\n",
            "trigger\n",
            "industrialis\n",
            "imperi\n",
            "grow\n",
            "tension\n",
            "great\n",
            "power\n",
            "balkan\n",
            "reach\n",
            "break\n",
            "point\n",
            "june\n",
            "bosnian\n",
            "serb\n",
            "name\n",
            "gavrilo\n",
            "princip\n",
            "assassin\n",
            "archduk\n",
            "franz\n",
            "ferdinand\n",
            "heir\n",
            "austro\n",
            "hungarian\n",
            "throne\n",
            "austria\n",
            "hungari\n",
            "held\n",
            "serbia\n",
            "respons\n",
            "declar\n",
            "war\n",
            "juli\n",
            "russia\n",
            "mobilis\n",
            "serbia\n",
            "defenc\n",
            "germani\n",
            "declar\n",
            "war\n",
            "russia\n",
            "franc\n",
            "allianc\n",
            "unit\n",
            "kingdom\n",
            "enter\n",
            "germani\n",
            "invad\n",
            "belgium\n",
            "whose\n",
            "neutral\n",
            "guarante\n",
            "ottoman\n",
            "join\n",
            "central\n",
            "power\n",
            "novemb\n",
            "germani\n",
            "strategi\n",
            "quickli\n",
            "defeat\n",
            "franc\n",
            "transfer\n",
            "forc\n",
            "east\n",
            "advanc\n",
            "halt\n",
            "septemb\n",
            "end\n",
            "year\n",
            "western\n",
            "front\n",
            "consist\n",
            "continu\n",
            "line\n",
            "trench\n",
            "stretch\n",
            "english\n",
            "channel\n",
            "switzerland\n",
            "eastern\n",
            "front\n",
            "dynam\n",
            "neither\n",
            "side\n",
            "gain\n",
            "decis\n",
            "advantag\n",
            "despit\n",
            "costli\n",
            "offens\n",
            "itali\n",
            "bulgaria\n",
            "romania\n",
            "greec\n",
            "other\n",
            "join\n",
            "onward\n"
          ]
        }
      ]
    },
    {
      "cell_type": "code",
      "source": [
        "## lemmatization\n",
        "\n",
        "for i in corpus:\n",
        "  words=nltk.word_tokenize(i)\n",
        "  for word in words:\n",
        "     if word not in set(stopwords.words('english')):\n",
        "      print(lemmatizer.lemmatize(word))"
      ],
      "metadata": {
        "colab": {
          "base_uri": "https://localhost:8080/"
        },
        "id": "E9UKkjoZz_Ax",
        "outputId": "66ec2f37-4ba2-483e-d8e7-45cc146762a2"
      },
      "execution_count": 47,
      "outputs": [
        {
          "output_type": "stream",
          "name": "stdout",
          "text": [
            "world\n",
            "war\n",
            "b\n",
            "first\n",
            "world\n",
            "war\n",
            "july\n",
            "november\n",
            "also\n",
            "known\n",
            "great\n",
            "war\n",
            "global\n",
            "conflict\n",
            "two\n",
            "coalition\n",
            "ally\n",
            "entente\n",
            "central\n",
            "power\n",
            "fighting\n",
            "took\n",
            "place\n",
            "mainly\n",
            "europe\n",
            "middle\n",
            "east\n",
            "well\n",
            "part\n",
            "africa\n",
            "asia\n",
            "pacific\n",
            "europe\n",
            "characterised\n",
            "trench\n",
            "warfare\n",
            "widespread\n",
            "use\n",
            "artillery\n",
            "machine\n",
            "gun\n",
            "chemical\n",
            "weapon\n",
            "gas\n",
            "introduction\n",
            "tank\n",
            "aircraft\n",
            "world\n",
            "war\n",
            "one\n",
            "deadliest\n",
            "conflict\n",
            "history\n",
            "resulting\n",
            "estimated\n",
            "million\n",
            "military\n",
            "dead\n",
            "million\n",
            "wounded\n",
            "plus\n",
            "million\n",
            "civilian\n",
            "dead\n",
            "cause\n",
            "including\n",
            "genocide\n",
            "movement\n",
            "large\n",
            "number\n",
            "people\n",
            "major\n",
            "factor\n",
            "deadly\n",
            "spanish\n",
            "flu\n",
            "pandemic\n",
            "cause\n",
            "world\n",
            "war\n",
            "included\n",
            "rise\n",
            "germany\n",
            "decline\n",
            "ottoman\n",
            "empire\n",
            "disturbed\n",
            "long\n",
            "standing\n",
            "balance\n",
            "power\n",
            "europe\n",
            "well\n",
            "economic\n",
            "competition\n",
            "nation\n",
            "triggered\n",
            "industrialisation\n",
            "imperialism\n",
            "growing\n",
            "tension\n",
            "great\n",
            "power\n",
            "balkan\n",
            "reached\n",
            "breaking\n",
            "point\n",
            "june\n",
            "bosnian\n",
            "serb\n",
            "named\n",
            "gavrilo\n",
            "princip\n",
            "assassinated\n",
            "archduke\n",
            "franz\n",
            "ferdinand\n",
            "heir\n",
            "austro\n",
            "hungarian\n",
            "throne\n",
            "austria\n",
            "hungary\n",
            "held\n",
            "serbia\n",
            "responsible\n",
            "declared\n",
            "war\n",
            "july\n",
            "russia\n",
            "mobilised\n",
            "serbia\n",
            "defence\n",
            "germany\n",
            "declared\n",
            "war\n",
            "russia\n",
            "france\n",
            "alliance\n",
            "united\n",
            "kingdom\n",
            "entered\n",
            "germany\n",
            "invaded\n",
            "belgium\n",
            "whose\n",
            "neutrality\n",
            "guaranteed\n",
            "ottoman\n",
            "joined\n",
            "central\n",
            "power\n",
            "november\n",
            "germany\n",
            "strategy\n",
            "quickly\n",
            "defeat\n",
            "france\n",
            "transfer\n",
            "force\n",
            "east\n",
            "advance\n",
            "halted\n",
            "september\n",
            "end\n",
            "year\n",
            "western\n",
            "front\n",
            "consisted\n",
            "continuous\n",
            "line\n",
            "trench\n",
            "stretching\n",
            "english\n",
            "channel\n",
            "switzerland\n",
            "eastern\n",
            "front\n",
            "dynamic\n",
            "neither\n",
            "side\n",
            "gained\n",
            "decisive\n",
            "advantage\n",
            "despite\n",
            "costly\n",
            "offensive\n",
            "italy\n",
            "bulgaria\n",
            "romania\n",
            "greece\n",
            "others\n",
            "joined\n",
            "onward\n"
          ]
        }
      ]
    },
    {
      "cell_type": "code",
      "source": [
        "# Create a CountVectorizer object\n",
        "cv = CountVectorizer()"
      ],
      "metadata": {
        "id": "M-SqMLcz7VIB"
      },
      "execution_count": 48,
      "outputs": []
    },
    {
      "cell_type": "code",
      "source": [
        "# Fit and transform the corpus\n",
        "X = cv.fit_transform(corpus)\n"
      ],
      "metadata": {
        "id": "neowACiY7XoA"
      },
      "execution_count": 49,
      "outputs": []
    },
    {
      "cell_type": "code",
      "source": [
        "# Print the feature names\n",
        "print(\"\\nFeature Names:\", cv.get_feature_names_out())"
      ],
      "metadata": {
        "colab": {
          "base_uri": "https://localhost:8080/"
        },
        "id": "7Bl1ZSgH7gio",
        "outputId": "f0b0c247-bdd7-4738-980b-737c3251b0fd"
      },
      "execution_count": 50,
      "outputs": [
        {
          "output_type": "stream",
          "name": "stdout",
          "text": [
            "\n",
            "Feature Names: ['advance' 'advantage' 'africa' 'after' 'aircraft' 'alliance' 'allies'\n",
            " 'also' 'an' 'and' 'archduke' 'artillery' 'as' 'asia' 'assassinated'\n",
            " 'austria' 'austro' 'balance' 'balkans' 'belgium' 'between' 'bosnian'\n",
            " 'breaking' 'bulgaria' 'but' 'by' 'causes' 'central' 'channel'\n",
            " 'characterised' 'chemical' 'civilian' 'coalitions' 'competition'\n",
            " 'conflict' 'conflicts' 'consisted' 'continuous' 'costly' 'dead'\n",
            " 'deadliest' 'deadly' 'decisive' 'declared' 'decline' 'defeat' 'defence'\n",
            " 'despite' 'disturbed' 'dynamic' 'east' 'eastern' 'economic' 'empire'\n",
            " 'end' 'english' 'entente' 'entered' 'estimated' 'europe' 'factor'\n",
            " 'ferdinand' 'fighting' 'first' 'flu' 'forces' 'france' 'franz' 'from'\n",
            " 'front' 'gained' 'gas' 'gavrilo' 'genocide' 'germany' 'global' 'great'\n",
            " 'greece' 'growing' 'guaranteed' 'guns' 'had' 'halted' 'heir' 'held'\n",
            " 'history' 'hungarian' 'hungary' 'imperialism' 'in' 'included' 'including'\n",
            " 'industrialisation' 'introductions' 'invaded' 'it' 'italy' 'its' 'joined'\n",
            " 'july' 'june' 'kingdom' 'known' 'large' 'line' 'long' 'machine' 'mainly'\n",
            " 'major' 'middle' 'military' 'million' 'mobilised' 'more' 'movement'\n",
            " 'named' 'nations' 'neither' 'neutrality' 'november' 'numbers' 'of'\n",
            " 'offensives' 'on' 'one' 'onward' 'or' 'others' 'ottoman' 'ottomans'\n",
            " 'pacific' 'pandemic' 'parts' 'people' 'place' 'plus' 'point' 'power'\n",
            " 'powers' 'princip' 'quickly' 'reached' 'responsible' 'resulting' 'rise'\n",
            " 'romania' 'russia' 'september' 'serb' 'serbia' 'side' 'some' 'spanish'\n",
            " 'standing' 'strategy' 'stretching' 'switzerland' 'tanks' 'tensions'\n",
            " 'than' 'the' 'then' 'throne' 'to' 'took' 'transfer' 'trench' 'trenches'\n",
            " 'triggered' 'two' 'united' 'use' 'war' 'warfare' 'was' 'weapons' 'well'\n",
            " 'western' 'when' 'which' 'who' 'whose' 'widespread' 'world' 'wounded'\n",
            " 'year']\n"
          ]
        }
      ]
    },
    {
      "cell_type": "code",
      "source": [
        "\n",
        "# Print vocabulary\n",
        "print(\"\\nVocabulary:\", cv.vocabulary_)\n",
        "\n"
      ],
      "metadata": {
        "colab": {
          "base_uri": "https://localhost:8080/"
        },
        "id": "kO4_6rce7S8A",
        "outputId": "d78fc17c-23c6-45d1-ebfd-aeaccd26ad39"
      },
      "execution_count": 51,
      "outputs": [
        {
          "output_type": "stream",
          "name": "stdout",
          "text": [
            "\n",
            "Vocabulary: {'world': 183, 'war': 172, 'or': 126, 'the': 160, 'first': 63, 'july': 99, 'november': 119, 'also': 7, 'known': 102, 'as': 12, 'great': 76, 'was': 174, 'global': 75, 'conflict': 34, 'between': 20, 'two': 169, 'coalitions': 32, 'allies': 6, 'entente': 56, 'and': 9, 'central': 27, 'powers': 138, 'fighting': 62, 'took': 164, 'place': 134, 'mainly': 107, 'in': 89, 'europe': 59, 'middle': 109, 'east': 50, 'well': 176, 'parts': 132, 'of': 121, 'africa': 2, 'asia': 13, 'pacific': 130, 'characterised': 29, 'by': 25, 'trench': 166, 'warfare': 173, 'widespread': 182, 'use': 171, 'artillery': 11, 'machine': 106, 'guns': 80, 'chemical': 30, 'weapons': 175, 'gas': 71, 'introductions': 93, 'tanks': 157, 'aircraft': 4, 'one': 124, 'deadliest': 40, 'conflicts': 35, 'history': 85, 'resulting': 143, 'an': 8, 'estimated': 58, 'million': 111, 'military': 110, 'dead': 39, 'more': 113, 'than': 159, 'wounded': 184, 'plus': 135, 'some': 151, 'civilian': 31, 'from': 68, 'causes': 26, 'including': 91, 'genocide': 73, 'movement': 114, 'large': 103, 'numbers': 120, 'people': 133, 'major': 108, 'factor': 60, 'deadly': 41, 'spanish': 152, 'flu': 64, 'pandemic': 131, 'included': 90, 'rise': 144, 'germany': 74, 'decline': 44, 'ottoman': 128, 'empire': 53, 'which': 179, 'disturbed': 48, 'long': 105, 'standing': 153, 'balance': 17, 'power': 137, 'economic': 52, 'competition': 33, 'nations': 116, 'triggered': 168, 'industrialisation': 92, 'imperialism': 88, 'growing': 78, 'tensions': 158, 'balkans': 18, 'reached': 141, 'breaking': 22, 'point': 136, 'on': 123, 'june': 100, 'when': 178, 'bosnian': 21, 'serb': 148, 'named': 115, 'gavrilo': 72, 'princip': 139, 'assassinated': 14, 'archduke': 10, 'franz': 67, 'ferdinand': 61, 'heir': 83, 'to': 163, 'austro': 16, 'hungarian': 86, 'throne': 162, 'austria': 15, 'hungary': 87, 'held': 84, 'serbia': 149, 'responsible': 142, 'declared': 43, 'after': 3, 'russia': 146, 'mobilised': 112, 'defence': 46, 'france': 66, 'who': 180, 'had': 81, 'alliance': 5, 'united': 170, 'kingdom': 101, 'entered': 57, 'invaded': 94, 'belgium': 19, 'whose': 181, 'neutrality': 118, 'it': 95, 'guaranteed': 79, 'ottomans': 129, 'joined': 98, 'strategy': 154, 'quickly': 140, 'defeat': 45, 'then': 161, 'transfer': 165, 'its': 97, 'forces': 65, 'but': 24, 'advance': 0, 'halted': 82, 'september': 147, 'end': 54, 'year': 185, 'western': 177, 'front': 69, 'consisted': 36, 'continuous': 37, 'line': 104, 'trenches': 167, 'stretching': 155, 'english': 55, 'channel': 28, 'switzerland': 156, 'eastern': 51, 'dynamic': 49, 'neither': 117, 'side': 150, 'gained': 70, 'decisive': 42, 'advantage': 1, 'despite': 47, 'costly': 38, 'offensives': 122, 'italy': 96, 'bulgaria': 23, 'romania': 145, 'greece': 77, 'others': 127, 'onward': 125}\n"
          ]
        }
      ]
    },
    {
      "cell_type": "code",
      "source": [
        "corpus[0]"
      ],
      "metadata": {
        "colab": {
          "base_uri": "https://localhost:8080/",
          "height": 53
        },
        "id": "yjSzopDo2jaj",
        "outputId": "915a9728-a848-49d0-e20e-aa7d603e0277"
      },
      "execution_count": 52,
      "outputs": [
        {
          "output_type": "execute_result",
          "data": {
            "text/plain": [
              "' world war i b  or the first world war     july           november        also known as the great war  was a global conflict between two coalitions  the allies  or entente  and the central powers '"
            ],
            "application/vnd.google.colaboratory.intrinsic+json": {
              "type": "string"
            }
          },
          "metadata": {},
          "execution_count": 52
        }
      ]
    },
    {
      "cell_type": "code",
      "source": [
        "# Print the array representation of the first document\n",
        "print(\"\\nArray representation of the first document:\", X[0].toarray())"
      ],
      "metadata": {
        "colab": {
          "base_uri": "https://localhost:8080/"
        },
        "id": "6nPrkGtQ7tVG",
        "outputId": "54979309-72cb-4b7f-ac44-8411d2a18440"
      },
      "execution_count": 53,
      "outputs": [
        {
          "output_type": "stream",
          "name": "stdout",
          "text": [
            "\n",
            "Array representation of the first document: [[0 0 0 0 0 0 1 1 0 1 0 0 1 0 0 0 0 0 0 0 1 0 0 0 0 0 0 1 0 0 0 0 1 0 1 0\n",
            "  0 0 0 0 0 0 0 0 0 0 0 0 0 0 0 0 0 0 0 0 1 0 0 0 0 0 0 1 0 0 0 0 0 0 0 0\n",
            "  0 0 0 1 1 0 0 0 0 0 0 0 0 0 0 0 0 0 0 0 0 0 0 0 0 0 0 1 0 0 1 0 0 0 0 0\n",
            "  0 0 0 0 0 0 0 0 0 0 0 1 0 0 0 0 0 0 2 0 0 0 0 0 0 0 0 0 0 0 1 0 0 0 0 0\n",
            "  0 0 0 0 0 0 0 0 0 0 0 0 0 0 0 0 4 0 0 0 0 0 0 0 0 1 0 0 3 0 1 0 0 0 0 0\n",
            "  0 0 0 2 0 0]]\n"
          ]
        }
      ]
    }
  ]
}